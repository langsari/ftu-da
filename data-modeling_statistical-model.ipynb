{
 "cells": [
  {
   "cell_type": "markdown",
   "metadata": {},
   "source": [
    "# Data Modeling - Statistical Modeling"
   ]
  },
  {
   "cell_type": "code",
   "execution_count": 1,
   "metadata": {},
   "outputs": [],
   "source": [
    "import statsmodels.api as sm"
   ]
  },
  {
   "cell_type": "code",
   "execution_count": 2,
   "metadata": {},
   "outputs": [],
   "source": [
    "import numpy as np"
   ]
  },
  {
   "cell_type": "code",
   "execution_count": 3,
   "metadata": {},
   "outputs": [],
   "source": [
    "predictors = np.random.random(1000).reshape(500,2)"
   ]
  },
  {
   "cell_type": "code",
   "execution_count": 4,
   "metadata": {},
   "outputs": [],
   "source": [
    "target = predictors.dot(np.array([0.4, 0.6])) + np.random.random(500)"
   ]
  },
  {
   "cell_type": "code",
   "execution_count": 5,
   "metadata": {},
   "outputs": [],
   "source": [
    "lmRegModel = sm.OLS(target,predictors)"
   ]
  },
  {
   "cell_type": "code",
   "execution_count": 6,
   "metadata": {},
   "outputs": [],
   "source": [
    "result = lmRegModel.fit()"
   ]
  },
  {
   "cell_type": "code",
   "execution_count": 8,
   "metadata": {},
   "outputs": [
    {
     "data": {
      "text/plain": [
       "<statsmodels.regression.linear_model.RegressionResultsWrapper at 0x1c229bc2b0>"
      ]
     },
     "execution_count": 8,
     "metadata": {},
     "output_type": "execute_result"
    }
   ],
   "source": [
    "result"
   ]
  },
  {
   "cell_type": "code",
   "execution_count": 7,
   "metadata": {},
   "outputs": [
    {
     "data": {
      "text/html": [
       "<table class=\"simpletable\">\n",
       "<caption>OLS Regression Results</caption>\n",
       "<tr>\n",
       "  <th>Dep. Variable:</th>            <td>y</td>        <th>  R-squared (uncentered):</th>      <td>   0.893</td> \n",
       "</tr>\n",
       "<tr>\n",
       "  <th>Model:</th>                   <td>OLS</td>       <th>  Adj. R-squared (uncentered):</th> <td>   0.892</td> \n",
       "</tr>\n",
       "<tr>\n",
       "  <th>Method:</th>             <td>Least Squares</td>  <th>  F-statistic:       </th>          <td>   2075.</td> \n",
       "</tr>\n",
       "<tr>\n",
       "  <th>Date:</th>             <td>Tue, 23 Feb 2021</td> <th>  Prob (F-statistic):</th>          <td>2.97e-242</td>\n",
       "</tr>\n",
       "<tr>\n",
       "  <th>Time:</th>                 <td>17:52:09</td>     <th>  Log-Likelihood:    </th>          <td> -182.35</td> \n",
       "</tr>\n",
       "<tr>\n",
       "  <th>No. Observations:</th>      <td>   500</td>      <th>  AIC:               </th>          <td>   368.7</td> \n",
       "</tr>\n",
       "<tr>\n",
       "  <th>Df Residuals:</th>          <td>   498</td>      <th>  BIC:               </th>          <td>   377.1</td> \n",
       "</tr>\n",
       "<tr>\n",
       "  <th>Df Model:</th>              <td>     2</td>      <th>                     </th>              <td> </td>    \n",
       "</tr>\n",
       "<tr>\n",
       "  <th>Covariance Type:</th>      <td>nonrobust</td>    <th>                     </th>              <td> </td>    \n",
       "</tr>\n",
       "</table>\n",
       "<table class=\"simpletable\">\n",
       "<tr>\n",
       "   <td></td>     <th>coef</th>     <th>std err</th>      <th>t</th>      <th>P>|t|</th>  <th>[0.025</th>    <th>0.975]</th>  \n",
       "</tr>\n",
       "<tr>\n",
       "  <th>x1</th> <td>    0.8664</td> <td>    0.041</td> <td>   21.363</td> <td> 0.000</td> <td>    0.787</td> <td>    0.946</td>\n",
       "</tr>\n",
       "<tr>\n",
       "  <th>x2</th> <td>    1.0109</td> <td>    0.040</td> <td>   25.585</td> <td> 0.000</td> <td>    0.933</td> <td>    1.089</td>\n",
       "</tr>\n",
       "</table>\n",
       "<table class=\"simpletable\">\n",
       "<tr>\n",
       "  <th>Omnibus:</th>       <td>39.511</td> <th>  Durbin-Watson:     </th> <td>   1.883</td>\n",
       "</tr>\n",
       "<tr>\n",
       "  <th>Prob(Omnibus):</th> <td> 0.000</td> <th>  Jarque-Bera (JB):  </th> <td>  13.463</td>\n",
       "</tr>\n",
       "<tr>\n",
       "  <th>Skew:</th>          <td> 0.001</td> <th>  Prob(JB):          </th> <td> 0.00119</td>\n",
       "</tr>\n",
       "<tr>\n",
       "  <th>Kurtosis:</th>      <td> 2.196</td> <th>  Cond. No.          </th> <td>    2.55</td>\n",
       "</tr>\n",
       "</table><br/><br/>Warnings:<br/>[1] Standard Errors assume that the covariance matrix of the errors is correctly specified."
      ],
      "text/plain": [
       "<class 'statsmodels.iolib.summary.Summary'>\n",
       "\"\"\"\n",
       "                                 OLS Regression Results                                \n",
       "=======================================================================================\n",
       "Dep. Variable:                      y   R-squared (uncentered):                   0.893\n",
       "Model:                            OLS   Adj. R-squared (uncentered):              0.892\n",
       "Method:                 Least Squares   F-statistic:                              2075.\n",
       "Date:                Tue, 23 Feb 2021   Prob (F-statistic):                   2.97e-242\n",
       "Time:                        17:52:09   Log-Likelihood:                         -182.35\n",
       "No. Observations:                 500   AIC:                                      368.7\n",
       "Df Residuals:                     498   BIC:                                      377.1\n",
       "Df Model:                           2                                                  \n",
       "Covariance Type:            nonrobust                                                  \n",
       "==============================================================================\n",
       "                 coef    std err          t      P>|t|      [0.025      0.975]\n",
       "------------------------------------------------------------------------------\n",
       "x1             0.8664      0.041     21.363      0.000       0.787       0.946\n",
       "x2             1.0109      0.040     25.585      0.000       0.933       1.089\n",
       "==============================================================================\n",
       "Omnibus:                       39.511   Durbin-Watson:                   1.883\n",
       "Prob(Omnibus):                  0.000   Jarque-Bera (JB):               13.463\n",
       "Skew:                           0.001   Prob(JB):                      0.00119\n",
       "Kurtosis:                       2.196   Cond. No.                         2.55\n",
       "==============================================================================\n",
       "\n",
       "Warnings:\n",
       "[1] Standard Errors assume that the covariance matrix of the errors is correctly specified.\n",
       "\"\"\""
      ]
     },
     "execution_count": 7,
     "metadata": {},
     "output_type": "execute_result"
    }
   ],
   "source": [
    "result.summary()"
   ]
  },
  {
   "cell_type": "code",
   "execution_count": 9,
   "metadata": {},
   "outputs": [
    {
     "name": "stdout",
     "output_type": "stream",
     "text": [
      "                                 OLS Regression Results                                \n",
      "=======================================================================================\n",
      "Dep. Variable:                      y   R-squared (uncentered):                   0.893\n",
      "Model:                            OLS   Adj. R-squared (uncentered):              0.892\n",
      "Method:                 Least Squares   F-statistic:                              2075.\n",
      "Date:                Tue, 23 Feb 2021   Prob (F-statistic):                   2.97e-242\n",
      "Time:                        18:00:53   Log-Likelihood:                         -182.35\n",
      "No. Observations:                 500   AIC:                                      368.7\n",
      "Df Residuals:                     498   BIC:                                      377.1\n",
      "Df Model:                           2                                                  \n",
      "Covariance Type:            nonrobust                                                  \n",
      "==============================================================================\n",
      "                 coef    std err          t      P>|t|      [0.025      0.975]\n",
      "------------------------------------------------------------------------------\n",
      "x1             0.8664      0.041     21.363      0.000       0.787       0.946\n",
      "x2             1.0109      0.040     25.585      0.000       0.933       1.089\n",
      "==============================================================================\n",
      "Omnibus:                       39.511   Durbin-Watson:                   1.883\n",
      "Prob(Omnibus):                  0.000   Jarque-Bera (JB):               13.463\n",
      "Skew:                           0.001   Prob(JB):                      0.00119\n",
      "Kurtosis:                       2.196   Cond. No.                         2.55\n",
      "==============================================================================\n",
      "\n",
      "Warnings:\n",
      "[1] Standard Errors assume that the covariance matrix of the errors is correctly specified.\n"
     ]
    }
   ],
   "source": [
    "print(result.summary())"
   ]
  },
  {
   "cell_type": "markdown",
   "metadata": {},
   "source": [
    "### Prediction (out of sample)"
   ]
  },
  {
   "cell_type": "code",
   "execution_count": 10,
   "metadata": {},
   "outputs": [],
   "source": [
    "%matplotlib inline"
   ]
  },
  {
   "cell_type": "code",
   "execution_count": 13,
   "metadata": {},
   "outputs": [],
   "source": [
    "import numpy as np\n",
    "import matplotlib.pyplot as plt\n",
    "\n",
    "import statsmodels.api as sm\n",
    "\n",
    "plt.rc(\"figure\", figsize=(16,8))\n",
    "plt.rc(\"font\", size=14)"
   ]
  },
  {
   "cell_type": "code",
   "execution_count": 14,
   "metadata": {},
   "outputs": [],
   "source": [
    "nsample = 50\n",
    "sig = 0.25\n",
    "x1 = np.linspace(0, 20, nsample)\n",
    "X = np.column_stack((x1, np.sin(x1), (x1-5)**2))\n",
    "X = sm.add_constant(X)\n",
    "beta = [5., 0.5, 0.5, -0.02]\n",
    "y_true = np.dot(X, beta)\n",
    "y = y_true + sig * np.random.normal(size=nsample)"
   ]
  },
  {
   "cell_type": "code",
   "execution_count": 20,
   "metadata": {},
   "outputs": [
    {
     "data": {
      "text/plain": [
       "array([ 4.61423531,  5.11501695,  5.40313997,  6.15244333,  6.17506149,\n",
       "        6.23956717,  6.36381705,  6.64797325,  6.46138518,  6.04225105,\n",
       "        6.72852962,  6.39708611,  6.93243529,  7.25277678,  7.41285137,\n",
       "        8.23127307,  8.07600012,  8.55294182,  9.41094125,  9.14356735,\n",
       "        8.98569664,  9.27516685,  9.22724968,  9.10285295,  9.83417554,\n",
       "        9.47128678,  9.3729184 ,  9.15130188,  9.37789229,  9.93511843,\n",
       "       10.16727113, 10.17024899, 10.11846047, 10.54354899, 10.71106648,\n",
       "       10.65974235, 11.12359401, 10.81745584, 10.53925422, 10.08797492,\n",
       "        9.72306137, 10.14011521, 10.37281952,  9.79065317, 10.16696685,\n",
       "       10.73582664,  9.97874891, 10.73991573, 10.89254502, 11.06988831])"
      ]
     },
     "execution_count": 20,
     "metadata": {},
     "output_type": "execute_result"
    }
   ],
   "source": [
    "y"
   ]
  },
  {
   "cell_type": "code",
   "execution_count": 21,
   "metadata": {},
   "outputs": [
    {
     "data": {
      "text/plain": [
       "array([[ 1.00000000e+00,  0.00000000e+00,  0.00000000e+00,\n",
       "         2.50000000e+01],\n",
       "       [ 1.00000000e+00,  4.08163265e-01,  3.96924149e-01,\n",
       "         2.10849646e+01],\n",
       "       [ 1.00000000e+00,  8.16326531e-01,  7.28634783e-01,\n",
       "         1.75031237e+01],\n",
       "       [ 1.00000000e+00,  1.22448980e+00,  9.40632785e-01,\n",
       "         1.42544773e+01],\n",
       "       [ 1.00000000e+00,  1.63265306e+00,  9.98087482e-01,\n",
       "         1.13390254e+01],\n",
       "       [ 1.00000000e+00,  2.04081633e+00,  8.91559230e-01,\n",
       "         8.75676801e+00],\n",
       "       [ 1.00000000e+00,  2.44897959e+00,  6.38550320e-01,\n",
       "         6.50770512e+00],\n",
       "       [ 1.00000000e+00,  2.85714286e+00,  2.80629400e-01,\n",
       "         4.59183673e+00],\n",
       "       [ 1.00000000e+00,  3.26530612e+00, -1.23398137e-01,\n",
       "         3.00916285e+00],\n",
       "       [ 1.00000000e+00,  3.67346939e+00, -5.07151709e-01,\n",
       "         1.75968347e+00],\n",
       "       [ 1.00000000e+00,  4.08163265e+00, -8.07581691e-01,\n",
       "         8.43398584e-01],\n",
       "       [ 1.00000000e+00,  4.48979592e+00, -9.75328286e-01,\n",
       "         2.60308205e-01],\n",
       "       [ 1.00000000e+00,  4.89795918e+00, -9.82831204e-01,\n",
       "         1.04123282e-02],\n",
       "       [ 1.00000000e+00,  5.30612245e+00, -8.28857736e-01,\n",
       "         9.37109538e-02],\n",
       "       [ 1.00000000e+00,  5.71428571e+00, -5.38705288e-01,\n",
       "         5.10204082e-01],\n",
       "       [ 1.00000000e+00,  6.12244898e+00, -1.60045086e-01,\n",
       "         1.25989171e+00],\n",
       "       [ 1.00000000e+00,  6.53061224e+00,  2.44910071e-01,\n",
       "         2.34277384e+00],\n",
       "       [ 1.00000000e+00,  6.93877551e+00,  6.09627196e-01,\n",
       "         3.75885048e+00],\n",
       "       [ 1.00000000e+00,  7.34693878e+00,  8.74184299e-01,\n",
       "         5.50812162e+00],\n",
       "       [ 1.00000000e+00,  7.75510204e+00,  9.95115395e-01,\n",
       "         7.59058726e+00],\n",
       "       [ 1.00000000e+00,  8.16326531e+00,  9.52551848e-01,\n",
       "         1.00062474e+01],\n",
       "       [ 1.00000000e+00,  8.57142857e+00,  7.53486727e-01,\n",
       "         1.27551020e+01],\n",
       "       [ 1.00000000e+00,  8.97959184e+00,  4.30625870e-01,\n",
       "         1.58371512e+01],\n",
       "       [ 1.00000000e+00,  9.38775510e+00,  3.70144015e-02,\n",
       "         1.92523948e+01],\n",
       "       [ 1.00000000e+00,  9.79591837e+00, -3.62678429e-01,\n",
       "         2.30008330e+01],\n",
       "       [ 1.00000000e+00,  1.02040816e+01, -7.02784220e-01,\n",
       "         2.70824656e+01],\n",
       "       [ 1.00000000e+00,  1.06122449e+01, -9.27424552e-01,\n",
       "         3.14972928e+01],\n",
       "       [ 1.00000000e+00,  1.10204082e+01, -9.99691655e-01,\n",
       "         3.62453145e+01],\n",
       "       [ 1.00000000e+00,  1.14285714e+01, -9.07712248e-01,\n",
       "         4.13265306e+01],\n",
       "       [ 1.00000000e+00,  1.18367347e+01, -6.66598288e-01,\n",
       "         4.67409413e+01],\n",
       "       [ 1.00000000e+00,  1.22448980e+01, -3.15964115e-01,\n",
       "         5.24885464e+01],\n",
       "       [ 1.00000000e+00,  1.26530612e+01,  8.65820672e-02,\n",
       "         5.85693461e+01],\n",
       "       [ 1.00000000e+00,  1.30612245e+01,  4.74903061e-01,\n",
       "         6.49833403e+01],\n",
       "       [ 1.00000000e+00,  1.34693878e+01,  7.85198826e-01,\n",
       "         7.17305289e+01],\n",
       "       [ 1.00000000e+00,  1.38775510e+01,  9.66488646e-01,\n",
       "         7.88109121e+01],\n",
       "       [ 1.00000000e+00,  1.42857143e+01,  9.88987117e-01,\n",
       "         8.62244898e+01],\n",
       "       [ 1.00000000e+00,  1.46938776e+01,  8.48997803e-01,\n",
       "         9.39712620e+01],\n",
       "       [ 1.00000000e+00,  1.51020408e+01,  5.69520553e-01,\n",
       "         1.02051229e+02],\n",
       "       [ 1.00000000e+00,  1.55102041e+01,  1.96472687e-01,\n",
       "         1.10464390e+02],\n",
       "       [ 1.00000000e+00,  1.59183673e+01, -2.08855085e-01,\n",
       "         1.19210746e+02],\n",
       "       [ 1.00000000e+00,  1.63265306e+01, -5.79868557e-01,\n",
       "         1.28290296e+02],\n",
       "       [ 1.00000000e+00,  1.67346939e+01, -8.55611267e-01,\n",
       "         1.37703040e+02],\n",
       "       [ 1.00000000e+00,  1.71428571e+01, -9.90779466e-01,\n",
       "         1.47448980e+02],\n",
       "       [ 1.00000000e+00,  1.75510204e+01, -9.63165404e-01,\n",
       "         1.57528113e+02],\n",
       "       [ 1.00000000e+00,  1.79591837e+01, -7.77305991e-01,\n",
       "         1.67940441e+02],\n",
       "       [ 1.00000000e+00,  1.83673469e+01, -4.63737404e-01,\n",
       "         1.78685964e+02],\n",
       "       [ 1.00000000e+00,  1.87755102e+01, -7.39780734e-02,\n",
       "         1.89764681e+02],\n",
       "       [ 1.00000000e+00,  1.91836735e+01,  3.27935645e-01,\n",
       "         2.01176593e+02],\n",
       "       [ 1.00000000e+00,  1.95918367e+01,  6.75970465e-01,\n",
       "         2.12921699e+02],\n",
       "       [ 1.00000000e+00,  2.00000000e+01,  9.12945251e-01,\n",
       "         2.25000000e+02]])"
      ]
     },
     "execution_count": 21,
     "metadata": {},
     "output_type": "execute_result"
    }
   ],
   "source": [
    "X"
   ]
  },
  {
   "cell_type": "code",
   "execution_count": 15,
   "metadata": {},
   "outputs": [
    {
     "name": "stdout",
     "output_type": "stream",
     "text": [
      "                            OLS Regression Results                            \n",
      "==============================================================================\n",
      "Dep. Variable:                      y   R-squared:                       0.981\n",
      "Model:                            OLS   Adj. R-squared:                  0.980\n",
      "Method:                 Least Squares   F-statistic:                     803.3\n",
      "Date:                Tue, 23 Feb 2021   Prob (F-statistic):           1.01e-39\n",
      "Time:                        18:03:17   Log-Likelihood:                -1.5536\n",
      "No. Observations:                  50   AIC:                             11.11\n",
      "Df Residuals:                      46   BIC:                             18.76\n",
      "Df Model:                           3                                         \n",
      "Covariance Type:            nonrobust                                         \n",
      "==============================================================================\n",
      "                 coef    std err          t      P>|t|      [0.025      0.975]\n",
      "------------------------------------------------------------------------------\n",
      "const          5.0442      0.089     56.869      0.000       4.866       5.223\n",
      "x1             0.4901      0.014     35.826      0.000       0.463       0.518\n",
      "x2             0.4970      0.054      9.242      0.000       0.389       0.605\n",
      "x3            -0.0196      0.001    -16.333      0.000      -0.022      -0.017\n",
      "==============================================================================\n",
      "Omnibus:                        0.055   Durbin-Watson:                   2.030\n",
      "Prob(Omnibus):                  0.973   Jarque-Bera (JB):                0.046\n",
      "Skew:                           0.037   Prob(JB):                        0.977\n",
      "Kurtosis:                       2.872   Cond. No.                         221.\n",
      "==============================================================================\n",
      "\n",
      "Warnings:\n",
      "[1] Standard Errors assume that the covariance matrix of the errors is correctly specified.\n"
     ]
    }
   ],
   "source": [
    "olsmod = sm.OLS(y, X)\n",
    "olsres = olsmod.fit()\n",
    "print(olsres.summary())"
   ]
  },
  {
   "cell_type": "code",
   "execution_count": 16,
   "metadata": {},
   "outputs": [
    {
     "data": {
      "text/html": [
       "<table class=\"simpletable\">\n",
       "<caption>OLS Regression Results</caption>\n",
       "<tr>\n",
       "  <th>Dep. Variable:</th>            <td>y</td>        <th>  R-squared:         </th> <td>   0.981</td>\n",
       "</tr>\n",
       "<tr>\n",
       "  <th>Model:</th>                   <td>OLS</td>       <th>  Adj. R-squared:    </th> <td>   0.980</td>\n",
       "</tr>\n",
       "<tr>\n",
       "  <th>Method:</th>             <td>Least Squares</td>  <th>  F-statistic:       </th> <td>   803.3</td>\n",
       "</tr>\n",
       "<tr>\n",
       "  <th>Date:</th>             <td>Tue, 23 Feb 2021</td> <th>  Prob (F-statistic):</th> <td>1.01e-39</td>\n",
       "</tr>\n",
       "<tr>\n",
       "  <th>Time:</th>                 <td>18:03:34</td>     <th>  Log-Likelihood:    </th> <td> -1.5536</td>\n",
       "</tr>\n",
       "<tr>\n",
       "  <th>No. Observations:</th>      <td>    50</td>      <th>  AIC:               </th> <td>   11.11</td>\n",
       "</tr>\n",
       "<tr>\n",
       "  <th>Df Residuals:</th>          <td>    46</td>      <th>  BIC:               </th> <td>   18.76</td>\n",
       "</tr>\n",
       "<tr>\n",
       "  <th>Df Model:</th>              <td>     3</td>      <th>                     </th>     <td> </td>   \n",
       "</tr>\n",
       "<tr>\n",
       "  <th>Covariance Type:</th>      <td>nonrobust</td>    <th>                     </th>     <td> </td>   \n",
       "</tr>\n",
       "</table>\n",
       "<table class=\"simpletable\">\n",
       "<tr>\n",
       "    <td></td>       <th>coef</th>     <th>std err</th>      <th>t</th>      <th>P>|t|</th>  <th>[0.025</th>    <th>0.975]</th>  \n",
       "</tr>\n",
       "<tr>\n",
       "  <th>const</th> <td>    5.0442</td> <td>    0.089</td> <td>   56.869</td> <td> 0.000</td> <td>    4.866</td> <td>    5.223</td>\n",
       "</tr>\n",
       "<tr>\n",
       "  <th>x1</th>    <td>    0.4901</td> <td>    0.014</td> <td>   35.826</td> <td> 0.000</td> <td>    0.463</td> <td>    0.518</td>\n",
       "</tr>\n",
       "<tr>\n",
       "  <th>x2</th>    <td>    0.4970</td> <td>    0.054</td> <td>    9.242</td> <td> 0.000</td> <td>    0.389</td> <td>    0.605</td>\n",
       "</tr>\n",
       "<tr>\n",
       "  <th>x3</th>    <td>   -0.0196</td> <td>    0.001</td> <td>  -16.333</td> <td> 0.000</td> <td>   -0.022</td> <td>   -0.017</td>\n",
       "</tr>\n",
       "</table>\n",
       "<table class=\"simpletable\">\n",
       "<tr>\n",
       "  <th>Omnibus:</th>       <td> 0.055</td> <th>  Durbin-Watson:     </th> <td>   2.030</td>\n",
       "</tr>\n",
       "<tr>\n",
       "  <th>Prob(Omnibus):</th> <td> 0.973</td> <th>  Jarque-Bera (JB):  </th> <td>   0.046</td>\n",
       "</tr>\n",
       "<tr>\n",
       "  <th>Skew:</th>          <td> 0.037</td> <th>  Prob(JB):          </th> <td>   0.977</td>\n",
       "</tr>\n",
       "<tr>\n",
       "  <th>Kurtosis:</th>      <td> 2.872</td> <th>  Cond. No.          </th> <td>    221.</td>\n",
       "</tr>\n",
       "</table><br/><br/>Warnings:<br/>[1] Standard Errors assume that the covariance matrix of the errors is correctly specified."
      ],
      "text/plain": [
       "<class 'statsmodels.iolib.summary.Summary'>\n",
       "\"\"\"\n",
       "                            OLS Regression Results                            \n",
       "==============================================================================\n",
       "Dep. Variable:                      y   R-squared:                       0.981\n",
       "Model:                            OLS   Adj. R-squared:                  0.980\n",
       "Method:                 Least Squares   F-statistic:                     803.3\n",
       "Date:                Tue, 23 Feb 2021   Prob (F-statistic):           1.01e-39\n",
       "Time:                        18:03:34   Log-Likelihood:                -1.5536\n",
       "No. Observations:                  50   AIC:                             11.11\n",
       "Df Residuals:                      46   BIC:                             18.76\n",
       "Df Model:                           3                                         \n",
       "Covariance Type:            nonrobust                                         \n",
       "==============================================================================\n",
       "                 coef    std err          t      P>|t|      [0.025      0.975]\n",
       "------------------------------------------------------------------------------\n",
       "const          5.0442      0.089     56.869      0.000       4.866       5.223\n",
       "x1             0.4901      0.014     35.826      0.000       0.463       0.518\n",
       "x2             0.4970      0.054      9.242      0.000       0.389       0.605\n",
       "x3            -0.0196      0.001    -16.333      0.000      -0.022      -0.017\n",
       "==============================================================================\n",
       "Omnibus:                        0.055   Durbin-Watson:                   2.030\n",
       "Prob(Omnibus):                  0.973   Jarque-Bera (JB):                0.046\n",
       "Skew:                           0.037   Prob(JB):                        0.977\n",
       "Kurtosis:                       2.872   Cond. No.                         221.\n",
       "==============================================================================\n",
       "\n",
       "Warnings:\n",
       "[1] Standard Errors assume that the covariance matrix of the errors is correctly specified.\n",
       "\"\"\""
      ]
     },
     "execution_count": 16,
     "metadata": {},
     "output_type": "execute_result"
    }
   ],
   "source": [
    "olsres.summary()"
   ]
  },
  {
   "cell_type": "code",
   "execution_count": 17,
   "metadata": {},
   "outputs": [
    {
     "name": "stdout",
     "output_type": "stream",
     "text": [
      "[ 4.55378882  5.0278927   5.46304935  5.8321729   6.11795263  6.31569709\n",
      "  6.43410484  6.49383536  6.52411469  6.55793376  6.62662798  6.75472901\n",
      "  6.95593419  7.23085619  7.56692228  7.94044005  8.32048995  8.67400535\n",
      "  8.97120522  9.19048714  9.32197646  9.36914873  9.3482586   9.28566933\n",
      "  9.21352129  9.16445143  9.16623111  9.23720338  9.3832692   9.59691799\n",
      "  9.85846157 10.13926886 10.40646994 10.6283564  10.77959103 10.84537058\n",
      " 10.82385794 10.72648396 10.57606936 10.40307542 10.2405992  10.11893584\n",
      " 10.06060113 10.07663226 10.16477438 10.30985114 10.48625806 10.66216932\n",
      " 10.80476659 10.88563109]\n"
     ]
    }
   ],
   "source": [
    "ypred = olsres.predict(X)\n",
    "print(ypred)"
   ]
  },
  {
   "cell_type": "code",
   "execution_count": 18,
   "metadata": {},
   "outputs": [
    {
     "name": "stdout",
     "output_type": "stream",
     "text": [
      "[10.87319747 10.72965895 10.47450585 10.15215413  9.82107084  9.53945932\n",
      "  9.35100899  9.2741987   9.2977724   9.38349506]\n"
     ]
    }
   ],
   "source": [
    "x1n = np.linspace(20.5,25, 10)\n",
    "Xnew = np.column_stack((x1n, np.sin(x1n), (x1n-5)**2))\n",
    "Xnew = sm.add_constant(Xnew)\n",
    "ynewpred =  olsres.predict(Xnew) # predict out of sample\n",
    "print(ynewpred)"
   ]
  },
  {
   "cell_type": "markdown",
   "metadata": {},
   "source": []
  },
  {
   "cell_type": "code",
   "execution_count": 19,
   "metadata": {},
   "outputs": [
    {
     "data": {
      "image/png": "[encoded data removed]",
      "text/plain": [
       "<Figure size 1152x576 with 1 Axes>"
      ]
     },
     "metadata": {
      "needs_background": "light"
     },
     "output_type": "display_data"
    }
   ],
   "source": [
    "import matplotlib.pyplot as plt\n",
    "\n",
    "fig, ax = plt.subplots()\n",
    "ax.plot(x1, y, 'o', label=\"Data\")\n",
    "ax.plot(x1, y_true, 'b-', label=\"True\")\n",
    "ax.plot(np.hstack((x1, x1n)), np.hstack((ypred, ynewpred)), 'r', label=\"OLS prediction\")\n",
    "ax.legend(loc=\"best\");"
   ]
  },
  {
   "cell_type": "code",
   "execution_count": null,
   "metadata": {},
   "outputs": [],
   "source": []
  },
  {
   "cell_type": "code",
   "execution_count": null,
   "metadata": {},
   "outputs": [],
   "source": []
  },
  {
   "cell_type": "code",
   "execution_count": null,
   "metadata": {},
   "outputs": [],
   "source": []
  }
 ],
 "metadata": {
  "kernelspec": {
   "display_name": "Python 3",
   "language": "python",
   "name": "python3"
  },
  "language_info": {
   "codemirror_mode": {
    "name": "ipython",
    "version": 3
   },
   "file_extension": ".py",
   "mimetype": "text/x-python",
   "name": "python",
   "nbconvert_exporter": "python",
   "pygments_lexer": "ipython3",
   "version": "3.7.3"
  }
 },
 "nbformat": 4,
 "nbformat_minor": 2
}
